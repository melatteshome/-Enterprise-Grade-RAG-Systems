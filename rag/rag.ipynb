{
 "cells": [
  {
   "cell_type": "code",
   "execution_count": 1,
   "metadata": {},
   "outputs": [],
   "source": [
    "import os\n",
    "from langchain.chat_models import ChatOpenAI\n",
    "from langchain.schema import SystemMessage, HumanMessage,  AIMessage\n",
    "\n",
    "\n",
    "\n",
    "OPENAI_KEY = os.getenv(\"OPENAI_API_KEY\") "
   ]
  },
  {
   "cell_type": "code",
   "execution_count": 2,
   "metadata": {},
   "outputs": [
    {
     "name": "stderr",
     "output_type": "stream",
     "text": [
      "/home/melat/tnx/week6/Enterprise-Grade-RAG-Systems/myenv/lib/python3.10/site-packages/langchain_core/_api/deprecation.py:117: LangChainDeprecationWarning: The class `langchain_community.chat_models.openai.ChatOpenAI` was deprecated in langchain-community 0.0.10 and will be removed in 0.2.0. An updated version of the class exists in the langchain-openai package and should be used instead. To use it run `pip install -U langchain-openai` and import as `from langchain_openai import ChatOpenAI`.\n",
      "  warn_deprecated(\n",
      "/home/melat/tnx/week6/Enterprise-Grade-RAG-Systems/myenv/lib/python3.10/site-packages/langchain_core/_api/deprecation.py:117: LangChainDeprecationWarning: The function `__call__` was deprecated in LangChain 0.1.7 and will be removed in 0.2.0. Use invoke instead.\n",
      "  warn_deprecated(\n"
     ]
    },
    {
     "data": {
      "text/plain": [
       "AIMessage(content='String theory is a theoretical framework in physics that attempts to explain the fundamental nature of matter and the universe. It proposes that the fundamental building blocks of the universe are not particles, but tiny, vibrating strings.\\n\\nHere are some key points to understand about string theory:\\n\\n1. Building Blocks: According to string theory, instead of particles being the basic building blocks of the universe, tiny one-dimensional strings are the fundamental units. These strings can vibrate at different frequencies, which give rise to different particles and their properties.\\n\\n2. Extra Dimensions: String theory suggests that the universe has more than the three spatial dimensions (length, width, and height) that we are familiar with. In fact, string theory requires a total of 10 dimensions (9 spatial dimensions and 1 time dimension) for its consistency. These extra dimensions are thought to be compactified or curled up at extremely small scales.\\n\\n3. Unification: One of the main motivations behind string theory is to unify the four fundamental forces of nature: gravity, electromagnetism, and the strong and weak nuclear forces. In traditional physics, these forces are described by separate theories, but string theory seeks to provide a single framework that encompasses all of them.\\n\\n4. Mathematical Framework: String theory relies heavily on advanced mathematical concepts, such as quantum mechanics and general relativity. It involves complex mathematical calculations and requires sophisticated tools to study its implications.\\n\\n5. Multiverse: String theory suggests the existence of a vast number of parallel universes, known as the \"multiverse.\" These universes may have different physical laws and constants, giving rise to the diverse properties we observe in our own universe.\\n\\nIt\\'s important to note that string theory is still a developing field of research, and many aspects of it are not yet fully understood or confirmed by experimental evidence. Nonetheless, it provides a promising framework for addressing fundamental questions about the nature of reality.')"
      ]
     },
     "execution_count": 2,
     "metadata": {},
     "output_type": "execute_result"
    }
   ],
   "source": [
    "chat = ChatOpenAI(\n",
    "    openai_api_key=OPENAI_KEY,\n",
    "    model='gpt-3.5-turbo'\n",
    ")\n",
    "\n",
    "\n",
    "\n",
    "messages = [\n",
    "    SystemMessage(content=\"You are a helpful assistant.\"),\n",
    "    HumanMessage(content=\"Hi AI, how are you today?\"),\n",
    "    AIMessage(content=\"I'm great thank you. How can I help you?\"),\n",
    "    HumanMessage(content=\"I'd like to understand string theory.\")\n",
    "]\n",
    "\n",
    "res = chat(messages)\n",
    "res"
   ]
  },
  {
   "cell_type": "markdown",
   "metadata": {},
   "source": [
    "Load our context to the chroma vector database"
   ]
  },
  {
   "cell_type": "code",
   "execution_count": 3,
   "metadata": {},
   "outputs": [],
   "source": [
    "import os\n",
    "from langchain.chains import RetrievalQA\n",
    "from langchain_community.document_loaders import PyPDFLoader\n",
    "from langchain.embeddings import OpenAIEmbeddings\n",
    "from langchain.llms import OpenAI\n",
    "from langchain.text_splitter import CharacterTextSplitter\n",
    "from langchain.vectorstores import Chroma\n",
    "def create_qa_model():\n",
    "    # Load documents\n",
    "    loader = PyPDFLoader(\"./data/RAG.pdf\")\n",
    "    documents = loader.load()\n",
    "    # Split the documents into chunks\n",
    "    text_splitter = CharacterTextSplitter(chunk_size=500, chunk_overlap=0)\n",
    "    texts = text_splitter.split_documents(documents)\n",
    "    print(len(texts))\n",
    "    # Select which embeddings we want to use\n",
    "    embeddings = OpenAIEmbeddings()\n",
    "    # Create the vector store to use as the index\n",
    "    db = Chroma.from_documents(texts, embeddings)\n",
    "    # Expose this index in a retriever interface\n",
    "    retriever = db.as_retriever( search_kwargs={\"k\": 3})\n",
    "    return  retriever"
   ]
  },
  {
   "cell_type": "code",
   "execution_count": 4,
   "metadata": {},
   "outputs": [
    {
     "name": "stdout",
     "output_type": "stream",
     "text": [
      "11\n"
     ]
    },
    {
     "name": "stderr",
     "output_type": "stream",
     "text": [
      "/home/melat/tnx/week6/Enterprise-Grade-RAG-Systems/myenv/lib/python3.10/site-packages/langchain_core/_api/deprecation.py:117: LangChainDeprecationWarning: The class `langchain_community.embeddings.openai.OpenAIEmbeddings` was deprecated in langchain-community 0.1.0 and will be removed in 0.2.0. An updated version of the class exists in the langchain-openai package and should be used instead. To use it run `pip install -U langchain-openai` and import as `from langchain_openai import OpenAIEmbeddings`.\n",
      "  warn_deprecated(\n"
     ]
    },
    {
     "data": {
      "text/plain": [
       "VectorStoreRetriever(tags=['Chroma', 'OpenAIEmbeddings'], vectorstore=<langchain_community.vectorstores.chroma.Chroma object at 0x7f7d6ae29150>, search_kwargs={'k': 3})"
      ]
     },
     "execution_count": 4,
     "metadata": {},
     "output_type": "execute_result"
    }
   ],
   "source": [
    "create_qa_model()"
   ]
  },
  {
   "cell_type": "code",
   "execution_count": null,
   "metadata": {},
   "outputs": [],
   "source": []
  },
  {
   "cell_type": "markdown",
   "metadata": {},
   "source": [
    "setup QA chain"
   ]
  },
  {
   "cell_type": "code",
   "execution_count": 6,
   "metadata": {},
   "outputs": [
    {
     "name": "stdout",
     "output_type": "stream",
     "text": [
      "11\n"
     ]
    }
   ],
   "source": [
    "from langchain.chat_models import ChatOpenAI\n",
    "from langchain.chains import RetrievalQA\n",
    "\n",
    "retriver = create_qa_model()\n",
    "primary_qa = ChatOpenAI(model_name='gpt-3.5-turbo-16k' )\n",
    "qa_chain = RetrievalQA.from_chain_type(primary_qa,retriever = retriver, return_source_documents= True)"
   ]
  },
  {
   "cell_type": "code",
   "execution_count": null,
   "metadata": {},
   "outputs": [],
   "source": []
  }
 ],
 "metadata": {
  "kernelspec": {
   "display_name": "myenv",
   "language": "python",
   "name": "python3"
  },
  "language_info": {
   "codemirror_mode": {
    "name": "ipython",
    "version": 3
   },
   "file_extension": ".py",
   "mimetype": "text/x-python",
   "name": "python",
   "nbconvert_exporter": "python",
   "pygments_lexer": "ipython3",
   "version": "3.10.12"
  }
 },
 "nbformat": 4,
 "nbformat_minor": 2
}
